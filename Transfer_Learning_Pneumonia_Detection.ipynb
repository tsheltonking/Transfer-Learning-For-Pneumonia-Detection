{
  "nbformat": 4,
  "nbformat_minor": 0,
  "metadata": {
    "colab": {
      "name": "Transfer Learning - Pneumonia Detection.ipynb",
      "provenance": [],
      "collapsed_sections": [],
      "toc_visible": true,
      "include_colab_link": true
    },
    "kernelspec": {
      "name": "python3",
      "display_name": "Python 3"
    }
  },
  "cells": [
    {
      "cell_type": "markdown",
      "metadata": {
        "id": "view-in-github",
        "colab_type": "text"
      },
      "source": [
        "<a href=\"https://colab.research.google.com/github/tsheltonking/Transfer-Learning-For-Pneumonia-Detection/blob/master/Transfer_Learning_Pneumonia_Detection.ipynb\" target=\"_parent\"><img src=\"https://colab.research.google.com/assets/colab-badge.svg\" alt=\"Open In Colab\"/></a>"
      ]
    },
    {
      "cell_type": "markdown",
      "metadata": {
        "id": "ON5vY_NAtbFg",
        "colab_type": "text"
      },
      "source": [
        "# Project Summary"
      ]
    },
    {
      "cell_type": "markdown",
      "metadata": {
        "id": "G1-2lYiAs8FI",
        "colab_type": "text"
      },
      "source": [
        ">Retrain the inception v3 image classifier on pneumonia dataset using Tensorflow+Keras. Show the training process as well as two examples of it making predictions on images from the testing dataset."
      ]
    },
    {
      "cell_type": "markdown",
      "metadata": {
        "id": "TcR2PgJxtXyk",
        "colab_type": "text"
      },
      "source": [
        "# Fetching Data & Dependencies"
      ]
    },
    {
      "cell_type": "code",
      "metadata": {
        "id": "NN1tLEpuqVTs",
        "colab_type": "code",
        "outputId": "8ac0e06a-3d5d-44e5-8b6b-0522b206e994",
        "colab": {
          "base_uri": "https://localhost:8080/",
          "height": 35
        }
      },
      "source": [
        "import os, json\n",
        "import pandas as pd\n",
        "import numpy as np\n",
        "import matplotlib.pyplot as plt\n",
        "import matplotlib.image as mpimg\n",
        "\n",
        "import tensorflow as tf\n",
        "print(\"Tensorflow version \" + tf.__version__)"
      ],
      "execution_count": 0,
      "outputs": [
        {
          "output_type": "stream",
          "text": [
            "Tensorflow version 1.14.0\n"
          ],
          "name": "stdout"
        }
      ]
    },
    {
      "cell_type": "markdown",
      "metadata": {
        "id": "jg0luiLIwPdQ",
        "colab_type": "text"
      },
      "source": [
        "Download the dataset manually [here](https://www.kaggle.com/paultimothymooney/chest-xray-pneumonia/data) or see instructions on how to get your [Kaggle API Token](https://github.com/Kaggle/kaggle-api) and add the resulting `.json` to your project directory before running the following:"
      ]
    },
    {
      "cell_type": "code",
      "metadata": {
        "id": "aO31j5PjqbBU",
        "colab_type": "code",
        "colab": {}
      },
      "source": [
        "# Adds the pneumonia dataset and inception-v3 pretrained model.\n",
        "\n",
        "with open('kaggle.json') as f:\n",
        "    d = json.load(f)\n",
        "os.environ['KAGGLE_USERNAME'] = d[\"username\"]\n",
        "os.environ['KAGGLE_KEY'] = d[\"key\"]\n",
        "\n",
        "!kaggle datasets download -d google-brain/inception-v3\n",
        "!kaggle datasets download -d paultimothymooney/chest-xray-pneumonia\n",
        "!unzip inception-v3.zip\n",
        "!unzip chest-xray-pneumonia.zip\n",
        "os.remove('inception-v3.zip')\n",
        "os.remove('chest-xray-pneumonia.zip')\n"
      ],
      "execution_count": 0,
      "outputs": []
    },
    {
      "cell_type": "code",
      "metadata": {
        "id": "PEbgyaJwt0mU",
        "colab_type": "code",
        "outputId": "1aa5ae93-6982-4103-b5ff-8c1cf6ae9d8c",
        "colab": {
          "base_uri": "https://localhost:8080/",
          "height": 311
        }
      },
      "source": [
        "!kaggle datasets list -s pneumonia"
      ],
      "execution_count": 0,
      "outputs": [
        {
          "output_type": "stream",
          "text": [
            "Warning: Looks like you're using an outdated API Version, please consider updating (server 1.5.6 / client 1.5.4)\n",
            "ref                                                               title                                                size  lastUpdated          downloadCount  \n",
            "----------------------------------------------------------------  --------------------------------------------------  -----  -------------------  -------------  \n",
            "paultimothymooney/chest-xray-pneumonia                            Chest X-Ray Images (Pneumonia)                        2GB  2018-03-24 19:41:59          23477  \n",
            "parthachakraborty/pneumonia-chest-x-ray                           Pneumonia Chest X ray                                 1GB  2018-08-16 07:48:39            362  \n",
            "vaillant/rsna-pneu-train-png                                      RSNA Pneumonia Detection Challenge Train PNGs         9GB  2018-09-21 00:02:41            198  \n",
            "nih-chest-xrays/data                                              NIH Chest X-rays                                     42GB  2018-02-21 20:52:23          26015  \n",
            "giuliasavorgnan/pytorchunetpneumoniaoutput                        pytorch-unet-pneumonia-output                        89KB  2018-10-02 11:47:32             33  \n",
            "nih-chest-xrays/sample                                            Random Sample of NIH Chest X-ray Dataset              4GB  2017-11-23 02:58:24           5744  \n",
            "muzin11/chest-xray-image                                          Chest X-ray image                                     1GB  2019-09-03 01:55:22              9  \n",
            "rajanand/ahs-woman-1                                              Predict Outcome of Pregnancy                        958MB  2017-09-06 21:48:48           1196  \n",
            "vbookshelf/respiratory-sound-database                             Respiratory Sound Database                            2GB  2019-01-29 06:42:26           1558  \n",
            "rajanand/key-indicators-of-annual-health-survey                   Health Analytics                                      1MB  2017-08-09 19:21:42           5366  \n",
            "yoctoman/shcxr-lung-mask                                          Lung Masks for Shenzhen Hospital Chest X-ray Set     20MB  2018-03-03 13:29:33           1061  \n",
            "seesee/pneumonia-positive-samples                                 pneumonia_positive_samples                          717MB  2019-07-01 08:17:58              6  \n",
            "cityofoakland/oakland-rate-of-acute-preventable-hospitalizations  Oakland Rate of Acute Preventable Hospitalizations    5KB  2019-09-28 14:01:41             25  \n"
          ],
          "name": "stdout"
        }
      ]
    },
    {
      "cell_type": "markdown",
      "metadata": {
        "id": "31NBzNMvriEM",
        "colab_type": "text"
      },
      "source": [
        "# Data Preprocessing"
      ]
    },
    {
      "cell_type": "markdown",
      "metadata": {
        "id": "ZJGvzgyR1_bQ",
        "colab_type": "text"
      },
      "source": [
        "# Modeling"
      ]
    }
  ]
}